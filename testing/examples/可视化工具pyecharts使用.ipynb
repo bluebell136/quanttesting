{
  "cells": [
    {
      "cell_type": "markdown",
      "source": "# 使用实例\n\n 版本：pyecharts 0.5.11\n\n使用之前我们要强调一点：就是python2.x和python3.x的编码问题，在python3.x中你可以把它看做默认是unicode编码，但在python2.x中并不是默认的，原因就在它的bytes对象定义的混乱，而pycharts是使用unicode编码来处理字符串和文件的，所以当你使用的是python2.x时，请务必在上方插入此代码：\n\nfrom __future__ import unicode_literals\n\n现在我们来开始正式使用pycharts，这里我们直接使用官方的数据：\n",
      "metadata": {
        "pycharm": {
          "metadata": false,
          "name": "#%% md\n"
        }
      }
    },
    {
      "cell_type": "markdown",
      "source": "## 柱状图-Bar\nrender()\n\n默认将会在根目录下生成一个 render.html 的文件，支持 path 参数，设置文件保存位置，如 render(r\"e:\\my_first_chart.html\")，文件用浏览器打开。\n",
      "metadata": {
        "pycharm": {
          "metadata": false,
          "name": "#%% md\n"
        }
      }
    },
    {
      "cell_type": "code",
      "execution_count": 1,
      "metadata": {
        "collapsed": true,
        "pycharm": {
          "is_executing": false
        }
      },
      "outputs": [
        {
          "name": "stdout",
          "text": [
            "0.5.11\n"
          ],
          "output_type": "stream"
        },
        {
          "data": {
            "text/plain": "\u003cpyecharts.charts.bar.Bar at 0x7f152175e898\u003e",
            "text/html": "\u003cscript\u003e\n    require.config({\n        paths: {\n            \u0027echarts\u0027: \u0027/nbextensions/echarts/echarts.min\u0027\n        }\n    });\n\u003c/script\u003e\n    \u003cdiv id\u003d\"dc59d3bf8d274e9d882a7376e2b4032f\" style\u003d\"width:800px;height:400px;\"\u003e\u003c/div\u003e\n\n\n\u003cscript\u003e\n    require([\u0027echarts\u0027], function(echarts) {\n        \nvar myChart_dc59d3bf8d274e9d882a7376e2b4032f \u003d echarts.init(document.getElementById(\u0027dc59d3bf8d274e9d882a7376e2b4032f\u0027), \u0027light\u0027, {renderer: \u0027canvas\u0027});\n\nvar option_dc59d3bf8d274e9d882a7376e2b4032f \u003d {\n    \"title\": [\n        {\n            \"text\": \"\\u67f1\\u72b6\\u56fe\",\n            \"subtext\": \"\\u4e00\\u5e74\\u7684\\u964d\\u6c34\\u91cf\\u4e0e\\u84b8\\u53d1\\u91cf\",\n            \"left\": \"auto\",\n            \"top\": \"auto\",\n            \"textStyle\": {\n                \"fontSize\": 18\n            },\n            \"subtextStyle\": {\n                \"fontSize\": 12\n            }\n        }\n    ],\n    \"toolbox\": {\n        \"show\": true,\n        \"orient\": \"vertical\",\n        \"left\": \"95%\",\n        \"top\": \"center\",\n        \"feature\": {\n            \"saveAsImage\": {\n                \"show\": true,\n                \"title\": \"save as image\"\n            },\n            \"restore\": {\n                \"show\": true,\n                \"title\": \"restore\"\n            },\n            \"dataView\": {\n                \"show\": true,\n                \"title\": \"data view\"\n            }\n        }\n    },\n    \"series_id\": 2345558,\n    \"tooltip\": {\n        \"trigger\": \"item\",\n        \"triggerOn\": \"mousemove|click\",\n        \"axisPointer\": {\n            \"type\": \"line\"\n        },\n        \"textStyle\": {\n            \"fontSize\": 14\n        },\n        \"backgroundColor\": \"rgba(50,50,50,0.7)\",\n        \"borderColor\": \"#333\",\n        \"borderWidth\": 0\n    },\n    \"series\": [\n        {\n            \"type\": \"bar\",\n            \"name\": \"\\u964d\\u6c34\\u91cf\",\n            \"data\": [\n                2.0,\n                4.9,\n                7.0,\n                23.2,\n                25.6,\n                76.7,\n                135.6,\n                162.2,\n                32.6,\n                20.0,\n                6.4,\n                3.3\n            ],\n            \"barCategoryGap\": \"20%\",\n            \"label\": {\n                \"normal\": {\n                    \"show\": false,\n                    \"position\": \"top\",\n                    \"textStyle\": {\n                        \"fontSize\": 12\n                    }\n                },\n                \"emphasis\": {\n                    \"show\": true,\n                    \"textStyle\": {\n                        \"fontSize\": 12\n                    }\n                }\n            },\n            \"markPoint\": {\n                \"data\": [\n                    {\n                        \"type\": \"max\",\n                        \"name\": \"Maximum\",\n                        \"symbol\": \"pin\",\n                        \"symbolSize\": 50,\n                        \"label\": {\n                            \"normal\": {\n                                \"textStyle\": {\n                                    \"color\": \"#fff\"\n                                }\n                            }\n                        }\n                    },\n                    {\n                        \"type\": \"min\",\n                        \"name\": \"Minimum\",\n                        \"symbol\": \"pin\",\n                        \"symbolSize\": 50,\n                        \"label\": {\n                            \"normal\": {\n                                \"textStyle\": {\n                                    \"color\": \"#fff\"\n                                }\n                            }\n                        }\n                    }\n                ]\n            },\n            \"markLine\": {\n                \"data\": [\n                    {\n                        \"type\": \"average\",\n                        \"name\": \"mean-Value\"\n                    }\n                ],\n                \"symbolSize\": 10\n            },\n            \"seriesId\": 2345558\n        },\n        {\n            \"type\": \"bar\",\n            \"name\": \"\\u84b8\\u53d1\\u91cf\",\n            \"data\": [\n                2.6,\n                5.9,\n                9.0,\n                26.4,\n                28.7,\n                70.7,\n                175.6,\n                182.2,\n                48.7,\n                18.8,\n                6.0,\n                2.3\n            ],\n            \"barCategoryGap\": \"20%\",\n            \"label\": {\n                \"normal\": {\n                    \"show\": false,\n                    \"position\": \"top\",\n                    \"textStyle\": {\n                        \"fontSize\": 12\n                    }\n                },\n                \"emphasis\": {\n                    \"show\": true,\n                    \"textStyle\": {\n                        \"fontSize\": 12\n                    }\n                }\n            },\n            \"markPoint\": {\n                \"data\": [\n                    {\n                        \"type\": \"max\",\n                        \"name\": \"Maximum\",\n                        \"symbol\": \"pin\",\n                        \"symbolSize\": 50,\n                        \"label\": {\n                            \"normal\": {\n                                \"textStyle\": {\n                                    \"color\": \"#fff\"\n                                }\n                            }\n                        }\n                    },\n                    {\n                        \"type\": \"min\",\n                        \"name\": \"Minimum\",\n                        \"symbol\": \"pin\",\n                        \"symbolSize\": 50,\n                        \"label\": {\n                            \"normal\": {\n                                \"textStyle\": {\n                                    \"color\": \"#fff\"\n                                }\n                            }\n                        }\n                    }\n                ]\n            },\n            \"markLine\": {\n                \"data\": [\n                    {\n                        \"type\": \"average\",\n                        \"name\": \"mean-Value\"\n                    }\n                ],\n                \"symbolSize\": 10\n            },\n            \"seriesId\": 2345558\n        }\n    ],\n    \"legend\": [\n        {\n            \"data\": [\n                \"\\u964d\\u6c34\\u91cf\",\n                \"\\u84b8\\u53d1\\u91cf\"\n            ],\n            \"selectedMode\": \"multiple\",\n            \"show\": true,\n            \"left\": \"center\",\n            \"top\": \"top\",\n            \"orient\": \"horizontal\",\n            \"textStyle\": {\n                \"fontSize\": 12\n            }\n        }\n    ],\n    \"animation\": true,\n    \"xAxis\": [\n        {\n            \"show\": true,\n            \"nameLocation\": \"middle\",\n            \"nameGap\": 25,\n            \"nameTextStyle\": {\n                \"fontSize\": 14\n            },\n            \"axisTick\": {\n                \"alignWithLabel\": false\n            },\n            \"inverse\": false,\n            \"boundaryGap\": true,\n            \"type\": \"category\",\n            \"splitLine\": {\n                \"show\": false\n            },\n            \"axisLine\": {\n                \"lineStyle\": {\n                    \"width\": 1\n                }\n            },\n            \"axisLabel\": {\n                \"interval\": \"auto\",\n                \"rotate\": 0,\n                \"margin\": 8,\n                \"textStyle\": {\n                    \"fontSize\": 12\n                }\n            },\n            \"data\": [\n                \"Jan\",\n                \"Feb\",\n                \"Mar\",\n                \"Apr\",\n                \"May\",\n                \"Jun\",\n                \"Jul\",\n                \"Aug\",\n                \"Sep\",\n                \"Oct\",\n                \"Nov\",\n                \"Dec\"\n            ]\n        }\n    ],\n    \"yAxis\": [\n        {\n            \"show\": true,\n            \"nameLocation\": \"middle\",\n            \"nameGap\": 25,\n            \"nameTextStyle\": {\n                \"fontSize\": 14\n            },\n            \"axisTick\": {\n                \"alignWithLabel\": false\n            },\n            \"inverse\": false,\n            \"boundaryGap\": true,\n            \"type\": \"value\",\n            \"splitLine\": {\n                \"show\": true\n            },\n            \"axisLine\": {\n                \"lineStyle\": {\n                    \"width\": 1\n                }\n            },\n            \"axisLabel\": {\n                \"interval\": \"auto\",\n                \"formatter\": \"{value} \",\n                \"rotate\": 0,\n                \"margin\": 8,\n                \"textStyle\": {\n                    \"fontSize\": 12\n                }\n            }\n        }\n    ],\n    \"color\": [\n        \"#c23531\",\n        \"#2f4554\",\n        \"#61a0a8\",\n        \"#d48265\",\n        \"#749f83\",\n        \"#ca8622\",\n        \"#bda29a\",\n        \"#6e7074\",\n        \"#546570\",\n        \"#c4ccd3\",\n        \"#f05b72\",\n        \"#ef5b9c\",\n        \"#f47920\",\n        \"#905a3d\",\n        \"#fab27b\",\n        \"#2a5caa\",\n        \"#444693\",\n        \"#726930\",\n        \"#b2d235\",\n        \"#6d8346\",\n        \"#ac6767\",\n        \"#1d953f\",\n        \"#6950a1\",\n        \"#918597\",\n        \"#f6f5ec\"\n    ]\n};\nmyChart_dc59d3bf8d274e9d882a7376e2b4032f.setOption(option_dc59d3bf8d274e9d882a7376e2b4032f);\n\n    });\n\u003c/script\u003e\n"
          },
          "metadata": {},
          "output_type": "execute_result",
          "execution_count": 1
        }
      ],
      "source": "# 导入柱状图-Bar\nimport pyecharts\nfrom pyecharts import Bar\n\nprint(pyecharts.__version__)\n# 设置行名\ncolumns \u003d [\"Jan\", \"Feb\", \"Mar\", \"Apr\", \"May\", \"Jun\", \"Jul\", \"Aug\", \"Sep\", \"Oct\", \"Nov\", \"Dec\"]\n# 设置数据\ndata1 \u003d [2.0, 4.9, 7.0, 23.2, 25.6, 76.7, 135.6, 162.2, 32.6, 20.0, 6.4, 3.3]\ndata2 \u003d [2.6, 5.9, 9.0, 26.4, 28.7, 70.7, 175.6, 182.2, 48.7, 18.8, 6.0, 2.3]\n\n# 设置柱状图的主标题与副标题\nbar \u003d Bar(\"柱状图\", \"一年的降水量与蒸发量\")\n# 添加柱状图的数据及配置项\nbar.add(\"降水量\", columns, data1, mark_line\u003d[\"average\"], mark_point\u003d[\"max\", \"min\"])\nbar.add(\"蒸发量\", columns, data2, mark_line\u003d[\"average\"], mark_point\u003d[\"max\", \"min\"])\n# bar.show_config()\n# 生成本地文件（默认为.html文件）\n# bar.render()\nbar\n"
    },
    {
      "cell_type": "markdown",
      "source": "简单的几行代码就可以将数据进行非常好看的可视化，而且还是动态的，在这里还是要安利一下jupyter，pyecharts在v0.1.9.2版本开始，在jupyter上直接调用实例（例如上方直接调用bar）就可以将图表直接表示出来，非常方便。\n\n笔者数了数，目前pyecharts上的图表大概支持到二十多种，接下来，我们再用上方的数据来生成几个数据挖掘常用的图表示例：\n\n## 饼图-Pie\n",
      "metadata": {
        "pycharm": {
          "metadata": false
        }
      }
    },
    {
      "cell_type": "code",
      "execution_count": 2,
      "outputs": [
        {
          "data": {
            "text/plain": "\u003cpyecharts.charts.pie.Pie at 0x7f150a4d9630\u003e",
            "text/html": "\u003cscript\u003e\n    require.config({\n        paths: {\n            \u0027echarts\u0027: \u0027/nbextensions/echarts/echarts.min\u0027\n        }\n    });\n\u003c/script\u003e\n    \u003cdiv id\u003d\"d1923b58764f429581abd63a5ecd8a5c\" style\u003d\"width:900px;height:400px;\"\u003e\u003c/div\u003e\n\n\n\u003cscript\u003e\n    require([\u0027echarts\u0027], function(echarts) {\n        \nvar myChart_d1923b58764f429581abd63a5ecd8a5c \u003d echarts.init(document.getElementById(\u0027d1923b58764f429581abd63a5ecd8a5c\u0027), \u0027light\u0027, {renderer: \u0027canvas\u0027});\n\nvar option_d1923b58764f429581abd63a5ecd8a5c \u003d {\n    \"title\": [\n        {\n            \"text\": \"\\u997c\\u72b6\\u56fe\",\n            \"subtext\": \"\\u4e00\\u5e74\\u7684\\u964d\\u6c34\\u91cf\\u4e0e\\u84b8\\u53d1\\u91cf\",\n            \"left\": \"center\",\n            \"top\": \"auto\",\n            \"textStyle\": {\n                \"fontSize\": 18\n            },\n            \"subtextStyle\": {\n                \"fontSize\": 12\n            }\n        }\n    ],\n    \"toolbox\": {\n        \"show\": true,\n        \"orient\": \"vertical\",\n        \"left\": \"95%\",\n        \"top\": \"center\",\n        \"feature\": {\n            \"saveAsImage\": {\n                \"show\": true,\n                \"title\": \"save as image\"\n            },\n            \"restore\": {\n                \"show\": true,\n                \"title\": \"restore\"\n            },\n            \"dataView\": {\n                \"show\": true,\n                \"title\": \"data view\"\n            }\n        }\n    },\n    \"series_id\": 7234118,\n    \"tooltip\": {\n        \"trigger\": \"item\",\n        \"triggerOn\": \"mousemove|click\",\n        \"axisPointer\": {\n            \"type\": \"line\"\n        },\n        \"textStyle\": {\n            \"fontSize\": 14\n        },\n        \"backgroundColor\": \"rgba(50,50,50,0.7)\",\n        \"borderColor\": \"#333\",\n        \"borderWidth\": 0\n    },\n    \"series\": [\n        {\n            \"type\": \"pie\",\n            \"name\": \"\\u964d\\u6c34\\u91cf\",\n            \"data\": [\n                {\n                    \"name\": \"Jan\",\n                    \"value\": 2.0\n                },\n                {\n                    \"name\": \"Feb\",\n                    \"value\": 4.9\n                },\n                {\n                    \"name\": \"Mar\",\n                    \"value\": 7.0\n                },\n                {\n                    \"name\": \"Apr\",\n                    \"value\": 23.2\n                },\n                {\n                    \"name\": \"May\",\n                    \"value\": 25.6\n                },\n                {\n                    \"name\": \"Jun\",\n                    \"value\": 76.7\n                },\n                {\n                    \"name\": \"Jul\",\n                    \"value\": 135.6\n                },\n                {\n                    \"name\": \"Aug\",\n                    \"value\": 162.2\n                },\n                {\n                    \"name\": \"Sep\",\n                    \"value\": 32.6\n                },\n                {\n                    \"name\": \"Oct\",\n                    \"value\": 20.0\n                },\n                {\n                    \"name\": \"Nov\",\n                    \"value\": 6.4\n                },\n                {\n                    \"name\": \"Dec\",\n                    \"value\": 3.3\n                }\n            ],\n            \"radius\": [\n                \"0%\",\n                \"75%\"\n            ],\n            \"center\": [\n                \"25%\",\n                \"50%\"\n            ],\n            \"label\": {\n                \"normal\": {\n                    \"show\": false,\n                    \"position\": \"outside\",\n                    \"textStyle\": {\n                        \"fontSize\": 12\n                    },\n                    \"formatter\": \"{b}: {d}%\"\n                },\n                \"emphasis\": {\n                    \"show\": true,\n                    \"textStyle\": {\n                        \"fontSize\": 12\n                    },\n                    \"formatter\": \"{b}: {d}%\"\n                }\n            },\n            \"seriesId\": 7234118\n        },\n        {\n            \"type\": \"pie\",\n            \"name\": \"\\u84b8\\u53d1\\u91cf\",\n            \"data\": [\n                {\n                    \"name\": \"Jan\",\n                    \"value\": 2.6\n                },\n                {\n                    \"name\": \"Feb\",\n                    \"value\": 5.9\n                },\n                {\n                    \"name\": \"Mar\",\n                    \"value\": 9.0\n                },\n                {\n                    \"name\": \"Apr\",\n                    \"value\": 26.4\n                },\n                {\n                    \"name\": \"May\",\n                    \"value\": 28.7\n                },\n                {\n                    \"name\": \"Jun\",\n                    \"value\": 70.7\n                },\n                {\n                    \"name\": \"Jul\",\n                    \"value\": 175.6\n                },\n                {\n                    \"name\": \"Aug\",\n                    \"value\": 182.2\n                },\n                {\n                    \"name\": \"Sep\",\n                    \"value\": 48.7\n                },\n                {\n                    \"name\": \"Oct\",\n                    \"value\": 18.8\n                },\n                {\n                    \"name\": \"Nov\",\n                    \"value\": 6.0\n                },\n                {\n                    \"name\": \"Dec\",\n                    \"value\": 2.3\n                }\n            ],\n            \"radius\": [\n                \"0%\",\n                \"75%\"\n            ],\n            \"center\": [\n                \"75%\",\n                \"50%\"\n            ],\n            \"label\": {\n                \"normal\": {\n                    \"show\": true,\n                    \"position\": \"outside\",\n                    \"textStyle\": {\n                        \"fontSize\": 12\n                    },\n                    \"formatter\": \"{b}: {d}%\"\n                },\n                \"emphasis\": {\n                    \"show\": true,\n                    \"textStyle\": {\n                        \"fontSize\": 12\n                    },\n                    \"formatter\": \"{b}: {d}%\"\n                }\n            },\n            \"seriesId\": 7234118\n        }\n    ],\n    \"legend\": [\n        {\n            \"data\": [\n                \"Jan\",\n                \"Feb\",\n                \"Mar\",\n                \"Apr\",\n                \"May\",\n                \"Jun\",\n                \"Jul\",\n                \"Aug\",\n                \"Sep\",\n                \"Oct\",\n                \"Nov\",\n                \"Dec\"\n            ],\n            \"selectedMode\": \"multiple\",\n            \"show\": false,\n            \"left\": \"center\",\n            \"top\": \"top\",\n            \"orient\": \"horizontal\",\n            \"textStyle\": {\n                \"fontSize\": 12\n            }\n        }\n    ],\n    \"animation\": true,\n    \"color\": [\n        \"#c23531\",\n        \"#2f4554\",\n        \"#61a0a8\",\n        \"#d48265\",\n        \"#749f83\",\n        \"#ca8622\",\n        \"#bda29a\",\n        \"#6e7074\",\n        \"#546570\",\n        \"#c4ccd3\",\n        \"#f05b72\",\n        \"#ef5b9c\",\n        \"#f47920\",\n        \"#905a3d\",\n        \"#fab27b\",\n        \"#2a5caa\",\n        \"#444693\",\n        \"#726930\",\n        \"#b2d235\",\n        \"#6d8346\",\n        \"#ac6767\",\n        \"#1d953f\",\n        \"#6950a1\",\n        \"#918597\",\n        \"#f6f5ec\"\n    ]\n};\nmyChart_d1923b58764f429581abd63a5ecd8a5c.setOption(option_d1923b58764f429581abd63a5ecd8a5c);\n\n    });\n\u003c/script\u003e\n"
          },
          "metadata": {},
          "output_type": "execute_result",
          "execution_count": 2
        }
      ],
      "source": "# 导入饼图Pie\nfrom pyecharts import Pie\n# 设置主标题与副标题，标题设置居中，设置宽度为900\npie \u003d Pie(\"饼状图\", \"一年的降水量与蒸发量\",title_pos\u003d\u0027center\u0027,width\u003d900)\n# 加入数据，设置坐标位置为【25，50】，上方的colums选项取消显示\npie.add(\"降水量\", columns, data1 ,center\u003d[25,50],is_legend_show\u003dFalse)\n# 加入数据，设置坐标位置为【75，50】，上方的colums选项取消显示，显示label标签\npie.add(\"蒸发量\", columns, data2 ,center\u003d[75,50],is_legend_show\u003dFalse,is_label_show\u003dTrue)\n# 保存图表\n# pie.render()\npie\n",
      "metadata": {
        "pycharm": {
          "metadata": false,
          "name": "#%%\n",
          "is_executing": false
        }
      }
    },
    {
      "cell_type": "markdown",
      "source": "## 箱体图-Boxplot\n",
      "metadata": {
        "pycharm": {
          "metadata": false
        }
      }
    },
    {
      "cell_type": "code",
      "execution_count": 1,
      "outputs": [
        {
          "traceback": [
            "\u001b[0;31m---------------------------------------------------------------------------\u001b[0m",
            "\u001b[0;31mNameError\u001b[0m                                 Traceback (most recent call last)",
            "\u001b[0;32m\u003cipython-input-1-b90d484ca97d\u003e\u001b[0m in \u001b[0;36m\u003cmodule\u003e\u001b[0;34m()\u001b[0m\n\u001b[1;32m      3\u001b[0m \u001b[0mboxplot\u001b[0m \u001b[0;34m\u003d\u001b[0m \u001b[0mBoxplot\u001b[0m\u001b[0;34m(\u001b[0m\u001b[0;34m\"箱形图\"\u001b[0m\u001b[0;34m,\u001b[0m \u001b[0;34m\"一年的降水量与蒸发量\"\u001b[0m\u001b[0;34m)\u001b[0m\u001b[0;34m\u001b[0m\u001b[0m\n\u001b[1;32m      4\u001b[0m \u001b[0mx_axis\u001b[0m \u001b[0;34m\u003d\u001b[0m \u001b[0;34m[\u001b[0m\u001b[0;34m\u0027降水量\u0027\u001b[0m\u001b[0;34m,\u001b[0m\u001b[0;34m\u0027蒸发量\u0027\u001b[0m\u001b[0;34m]\u001b[0m\u001b[0;34m\u001b[0m\u001b[0m\n\u001b[0;32m----\u003e 5\u001b[0;31m \u001b[0my_axis\u001b[0m \u001b[0;34m\u003d\u001b[0m \u001b[0;34m[\u001b[0m\u001b[0mdata1\u001b[0m\u001b[0;34m,\u001b[0m\u001b[0mdata2\u001b[0m\u001b[0;34m]\u001b[0m\u001b[0;34m\u001b[0m\u001b[0m\n\u001b[0m\u001b[1;32m      6\u001b[0m \u001b[0;31m# prepare_data方法可以将数据转为嵌套的 [min, Q1, median (or Q2), Q3, max]\u001b[0m\u001b[0;34m\u001b[0m\u001b[0;34m\u001b[0m\u001b[0m\n\u001b[1;32m      7\u001b[0m \u001b[0myaxis\u001b[0m \u001b[0;34m\u003d\u001b[0m \u001b[0mboxplot\u001b[0m\u001b[0;34m.\u001b[0m\u001b[0mprepare_data\u001b[0m\u001b[0;34m(\u001b[0m\u001b[0my_axis\u001b[0m\u001b[0;34m)\u001b[0m\u001b[0;34m\u001b[0m\u001b[0m\n",
            "\u001b[0;31mNameError\u001b[0m: name \u0027data1\u0027 is not defined"
          ],
          "ename": "NameError",
          "evalue": "name \u0027data1\u0027 is not defined",
          "output_type": "error"
        }
      ],
      "source": "# 导入箱型图Boxplot\nfrom pyecharts import Boxplot \nboxplot \u003d Boxplot(\"箱形图\", \"一年的降水量与蒸发量\")\nx_axis \u003d [\u0027降水量\u0027,\u0027蒸发量\u0027]\ny_axis \u003d [data1,data2]\n# prepare_data方法可以将数据转为嵌套的 [min, Q1, median (or Q2), Q3, max]\nyaxis \u003d boxplot.prepare_data(y_axis)       \nboxplot.add(\"天气统计\", x_axis, yaxis)\nboxplot.render()\n\n#55 md\n## 折线图-Line\n",
      "metadata": {
        "pycharm": {
          "metadata": false,
          "name": "#%%\n",
          "is_executing": false
        }
      }
    },
    {
      "cell_type": "code",
      "execution_count": null,
      "outputs": [],
      "source": "from pyecharts import Line\nline \u003d Line(\"折线图\",\"一年的降水量与蒸发量\")\n# is_label_show是设置上方数据是否显示\nline.add(\"降水量\", columns, data1, is_label_show\u003dTrue)\nline.add(\"蒸发量\", columns, data2, is_label_show\u003dTrue)\nline.render()\n",
      "metadata": {
        "pycharm": {
          "metadata": false,
          "name": "#%%\n"
        }
      }
    },
    {
      "cell_type": "markdown",
      "source": "## 雷达图-Rader\n",
      "metadata": {
        "pycharm": {
          "metadata": false,
          "name": "#%% md\n"
        }
      }
    },
    {
      "cell_type": "code",
      "execution_count": null,
      "outputs": [],
      "source": "from pyecharts import Radar\nradar \u003d Radar(\"雷达图\", \"一年的降水量与蒸发量\")\n# 由于雷达图传入的数据得为多维数据，所以这里需要做一下处理\nradar_data1 \u003d [[2.0, 4.9, 7.0, 23.2, 25.6, 76.7, 135.6, 162.2, 32.6, 20.0, 6.4, 3.3]]\nradar_data2 \u003d [[2.6, 5.9, 9.0, 26.4, 28.7, 70.7, 175.6, 182.2, 48.7, 18.8, 6.0, 2.3]]\n# 设置column的最大值，为了雷达图更为直观，这里的月份最大值设置有所不同\nschema \u003d [ \n    (\"Jan\", 5), (\"Feb\",10), (\"Mar\", 10),\n    (\"Apr\", 50), (\"May\", 50), (\"Jun\", 200),\n    (\"Jul\", 200), (\"Aug\", 200), (\"Sep\", 50),\n    (\"Oct\", 50), (\"Nov\", 10), (\"Dec\", 5)\n]\n# 传入坐标\nradar.config(schema)\nradar.add(\"降水量\",radar_data1)\n# 一般默认为同一种颜色，这里为了便于区分，需要设置item的颜色\nradar.add(\"蒸发量\",radar_data2,item_color\u003d\"#1C86EE\")\nradar.render()\n",
      "metadata": {
        "pycharm": {
          "metadata": false,
          "name": "#%%\n"
        }
      }
    },
    {
      "cell_type": "markdown",
      "source": "## 散点图-scatter\n",
      "metadata": {
        "pycharm": {
          "metadata": false,
          "name": "#%% md\n"
        }
      }
    },
    {
      "cell_type": "code",
      "execution_count": null,
      "outputs": [],
      "source": "from pyecharts import Scatter\nscatter \u003d Scatter(\"散点图\", \"一年的降水量与蒸发量\")\n# xais_name是设置横坐标名称，这里由于显示问题，还需要将y轴名称与y轴的距离进行设置\nscatter.add(\"降水量与蒸发量的散点分布\", data1,data2,xaxis_name\u003d\"降水量\",yaxis_name\u003d\"蒸发量\",\n            yaxis_name_gap\u003d40)\nscatter.render()\n",
      "metadata": {
        "pycharm": {
          "metadata": false,
          "name": "#%%\n"
        }
      }
    },
    {
      "cell_type": "markdown",
      "source": "## 图表布局 Grid\n由于标题与图表是属于两个不同的控件，所以这里必须对下方的图表Line进行标题位置设置，否则会出现标题重叠的bug。\n",
      "metadata": {
        "pycharm": {
          "metadata": false,
          "name": "#%% md\n"
        }
      }
    },
    {
      "cell_type": "code",
      "execution_count": null,
      "outputs": [],
      "source": "from pyecharts import Grid\n# 设置折线图标题位置\nline \u003d Line(\"折线图\",\"一年的降水量与蒸发量\",title_top\u003d\"45%\")\nline.add(\"降水量\", columns, data1, is_label_show\u003dTrue)\nline.add(\"蒸发量\", columns, data2, is_label_show\u003dTrue)\ngrid \u003d Grid()\n# 设置两个图表的相对位置\ngrid.add(bar, grid_bottom\u003d\"60%\")\ngrid.add(line, grid_top\u003d\"60%\")\ngrid.render()\n",
      "metadata": {
        "pycharm": {
          "metadata": false,
          "name": "#%%\n"
        }
      }
    },
    {
      "cell_type": "markdown",
      "source": "## 两图结合 Overlap\n",
      "metadata": {
        "pycharm": {
          "metadata": false,
          "name": "#%% md\n"
        }
      }
    },
    {
      "cell_type": "code",
      "execution_count": null,
      "outputs": [],
      "source": "from pyecharts import Overlap\noverlap \u003d Overlap()\nbar \u003d Bar(\"柱状图-折线图合并\", \"一年的降水量与蒸发量\")\nbar.add(\"降水量\", columns, data1, mark_point\u003d[\"max\", \"min\"])\nbar.add(\"蒸发量\", columns, data2, mark_point\u003d[\"max\", \"min\"])\noverlap.add(bar)\noverlap.add(line)\noverlap.render()\n",
      "metadata": {
        "pycharm": {
          "metadata": false,
          "name": "#%%\n"
        }
      }
    },
    {
      "cell_type": "markdown",
      "source": "## 总结\n导入相关图表包\n\n进行图表的基础设置，创建图表对象\n\n利用add()方法进行数据输入与图表设置(可以使用print_echarts_options()来输出所有可配置项)\n\n利用render()方法来进行图表保存\n\npyecharts还有许多好玩的3D图表和地图图表，个人觉得地图图表是最好玩的，各位有兴趣可以去pyecharts的使用手册查看，有中文版的非常方便：pyecharts\n",
      "metadata": {
        "pycharm": {
          "metadata": false,
          "name": "#%% md\n"
        }
      }
    }
  ],
  "metadata": {
    "language_info": {
      "codemirror_mode": {
        "name": "ipython",
        "version": 2
      },
      "file_extension": ".py",
      "mimetype": "text/x-python",
      "name": "python",
      "nbconvert_exporter": "python",
      "pygments_lexer": "ipython2",
      "version": "2.7.6"
    },
    "kernelspec": {
      "name": "python3",
      "language": "python",
      "display_name": "Python 3"
    },
    "stem_cell": {
      "cell_type": "raw",
      "source": "",
      "metadata": {
        "pycharm": {
          "metadata": false
        }
      }
    }
  },
  "nbformat": 4,
  "nbformat_minor": 0
}