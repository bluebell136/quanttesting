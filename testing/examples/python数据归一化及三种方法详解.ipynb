{
 "cells": [
  {
   "cell_type": "markdown",
   "metadata": {
    "collapsed": true,
    "pycharm": {
     "name": "#%% md\n"
    }
   },
   "source": [
    "# python数据归一化及三种方法详解\n",
    "\n",
    "数据标准化（归一化）处理是数据挖掘的一项基础工作，不同评价指标往往具有不同的量纲和量纲单位，这样的情况会影响到数据分析的结果，为了消除指标之间的量纲影响，需要进行数据标准化处理，以解决数据指标之间的可比性。原始数据经过数据标准化处理后，各指标处于同一数量级，适合进行综合对比评价。以下是三种常用的归一化方法：\n",
    "\n",
    "## min-max标准化（Min-Max Normalization）\n",
    "\n",
    "也称为离差标准化，是对原始数据的线性变换，使结果值映射到[0 , 1]之间。转换函数如下：\n",
    "\n",
    "其中max为样本数据的最大值，min为样本数据的最小值。这种方法有个缺陷就是当有新数据加入时，可能导致max和min的变化，需要重新定义。\n",
    "\n",
    "min-max标准化方法是对原始数据进行线性变换。设minA和maxA分别为属性A的最小值和最大值，将A的一个原始值x通过min-max标准化映射成在区间[0,1]中的值x'，其公式为：\n",
    "\n",
    "新数据=（原数据-最小值）/（最大值-最小值）\n",
    "\n",
    "LaTex：{x}_{normalization}=\\frac{x-Min}{Max-Min}\n",
    "\n",
    "这种方法能使数据归一化到一个区域内，同时不改变原来的数据结构。\n",
    "\n",
    "min-max标准化python代码如下："
   ]
  },
  {
   "cell_type": "code",
   "execution_count": 1,
   "outputs": [
    {
     "name": "stdout",
     "text": [
      "0.0\n",
      "0.1\n",
      "0.5\n",
      "0.8\n",
      "1.0\n"
     ],
     "output_type": "stream"
    }
   ],
   "source": [
    "import numpy as np\n",
    "arr = np.asarray([0, 10, 50, 80, 100])\n",
    "for x in arr:\n",
    "  x = float(x - np.min(arr))/(np.max(arr)- np.min(arr))\n",
    "  print(x)\n",
    "\n",
    "# output\n",
    "# 0.0\n",
    "# 0.1\n",
    "# 0.5\n",
    "# 0.8\n",
    "# 1.0"
   ],
   "metadata": {
    "collapsed": false,
    "pycharm": {
     "name": "#%%\n",
     "is_executing": false
    }
   }
  },
  {
   "cell_type": "markdown",
   "source": [
    "使用这种方法的目的包括：\n",
    "\n",
    "1、对于方差非常小的属性可以增强其稳定性；\n",
    "\n",
    "2、维持稀疏矩阵中为0的条目。\n",
    "\n",
    "下面将数据缩至0-1之间，采用MinMaxScaler函数"
   ],
   "metadata": {
    "collapsed": false
   }
  },
  {
   "cell_type": "code",
   "execution_count": 5,
   "outputs": [
    {
     "name": "stdout",
     "text": [
      "[[0.5        0.         1.        ]\n",
      " [1.         0.5        0.33333333]\n",
      " [0.         1.         0.        ]]\n"
     ],
     "output_type": "stream"
    }
   ],
   "source": [
    "from sklearn import preprocessing\n",
    "import numpy as np\n",
    "X = np.array([[ 1., -1., 2.],\n",
    "    [ 2., 0., 0.],\n",
    "    [ 0., 1., -1.]])\n",
    "min_max_scaler = preprocessing.MinMaxScaler()\n",
    "X_minMax = min_max_scaler.fit_transform(X)\n",
    "print(X_minMax)"
   ],
   "metadata": {
    "collapsed": false,
    "pycharm": {
     "name": "#%%\n",
     "is_executing": false
    }
   }
  },
  {
   "cell_type": "markdown",
   "source": [
    "最后输出：\n",
    " ~~~\n",
    "array([[ 0.5 , 0. , 1. ],\n",
    "[ 1. , 0.5 , 0.33333333],\n",
    "[ 0. , 1. , 0. ]])\n",
    "~~~\n",
    "\n",
    "测试用例：\n",
    "\n",
    "注意：这些变换都是对列进行处理。\n",
    "\n",
    "当然，在构造类对象的时候也可以直接指定最大最小值的范围：feature_range=(min, max)，此时应用的公式变为："
   ],
   "metadata": {
    "collapsed": false,
    "pycharm": {
     "name": "#%% md\n"
    }
   }
  },
  {
   "cell_type": "code",
   "execution_count": 8,
   "outputs": [
    {
     "data": {
      "text/plain": "array([[ 0.25      , -1.        , -0.66666667],\n       [ 0.5       , -0.75      , -0.88888889],\n       [ 0.        , -0.5       , -1.        ]])"
     },
     "metadata": {},
     "output_type": "execute_result",
     "execution_count": 8
    }
   ],
   "source": [
    "X_std=(X-X.min(axis=0))/(X.max(axis=0)-X.min(axis=0))\n",
    "X_minmax=X_std/(X.max(axis=0)-X.min(axis=0))+X.min(axis=0)\n",
    "X_minmax"
   ],
   "metadata": {
    "collapsed": false,
    "pycharm": {
     "name": "#%%\n",
     "is_executing": false
    }
   }
  },
  {
   "cell_type": "markdown",
   "source": [
    "## Z-score标准化方法\n",
    "也称为均值归一化(mean normaliztion)， 给予原始数据的均值（mean）和标准差（standard deviation）进行数据的标准化。经过处理的数据符合标准正态分布，即均值为0，标准差为1。转化函数为：\n",
    "\n",
    "训练集归一化处理\n",
    "\n",
    "mean_of_feature_cols = np.mean(train_features, axis=0)\n",
    "\n",
    "train_features = (train_features - mean_of_feature_cols) / 255.\n",
    "\n",
    "测试集归一化处理\n",
    "\n",
    "test_features = (test_features - mean_of_feature_cols) / 255.\n",
    "\n",
    "标签的OneHot化处理\n",
    "\n",
    "for i in np.arange(len(train_labels)):\n",
    "\n",
    "one_hot_labels[i, train_labels[i]] = 1//\n",
    "\n",
    "其中 μμ 为所有样本数据的均值，σσ为所有样本数据的标准差。\n",
    "\n",
    "这种方法基于原始数据的均值（mean）和标准差（standard deviation）进行数据的标准化。将A的原始值x使用z-score标准化到x'。\n",
    "\n",
    "z-score标准化方法适用于属性A的最大值和最小值未知的情况，或有超出取值范围的离群数据的情况。\n",
    "\n",
    "新数据=（原数据-均值）/标准差\n",
    "\n",
    "LaTex：{x}_{normalization}=\\frac{x-\\mu }{\\sigma }\n",
    "\n",
    "这种方法适合大多数类型数据，也是很多工具的默认标准化方法。标准化之后的数据是以0为均值，方差为以的正太分布。但是Z-Score方法是一种中心化方法，会改变原有数据的分布结构，不适合用于对稀疏数据做处理。\n",
    "\n",
    "很多时候数据集会存在稀疏特征，表现为标准差小，很多元素值为0，最常见的稀疏数据集是用来做协同过滤的数据集，绝大部分数据都是0。对稀疏数据做标准化，不能采用中心化的方式，否则会破坏稀疏数据的结构。"
   ],
   "metadata": {
    "collapsed": false,
    "pycharm": {
     "name": "#%% md\n"
    }
   }
  },
  {
   "cell_type": "code",
   "execution_count": 9,
   "outputs": [
    {
     "name": "stdout",
     "text": [
      "-1.241010455988046\n",
      "-0.9824666109905364\n",
      "0.051708768999501914\n",
      "0.8273403039920306\n",
      "1.3444279939870498\n"
     ],
     "output_type": "stream"
    }
   ],
   "source": [
    "import numpy as np\n",
    "arr = np.asarray([0, 10, 50, 80, 100])\n",
    "for x in arr:\n",
    "    x = float(x - arr.mean())/arr.std()\n",
    "    print(x)\n",
    "\n",
    "# output\n",
    "# -1.24101045599\n",
    "# -0.982466610991\n",
    "# 0.0517087689995\n",
    "# 0.827340303992\n",
    "# 1.34442799399"
   ],
   "metadata": {
    "collapsed": false,
    "pycharm": {
     "name": "#%%\n",
     "is_executing": false
    }
   }
  },
  {
   "cell_type": "markdown",
   "source": [
    "## 用于稀疏数据的MaxAbs\n",
    "最大值绝对值标准化（MaxAbs）即根据最大值的绝对值进行标准化，假设原转换的数据为x，新数据为x'，那么x'=x/|max|，其中max为x锁在列的最大值。\n",
    "该方法的数据区间为[-1, 1]，也不破坏原数据结构的特点，因此也可以用于稀疏数据，一些稀疏矩阵。"
   ],
   "metadata": {
    "collapsed": false,
    "pycharm": {
     "name": "#%% md\n"
    }
   }
  },
  {
   "cell_type": "markdown",
   "source": [
    "## 针对离群点的RobustScaler\n",
    "有些时候，数据集中存在离群点，用Z-Score进行标准化，但是结果不理想，因为离群点在标准化后丧失了利群特性。RobustScaler针对离群点做标准化处理，该方法对数据中心化的数据的缩放健壮性有更强的参数控制能力。\n",
    "\n",
    "python实现"
   ],
   "metadata": {
    "collapsed": false,
    "pycharm": {
     "name": "#%% md\n"
    }
   }
  },
  {
   "cell_type": "code",
   "execution_count": 10,
   "outputs": [
    {
     "data": {
      "text/plain": "<Figure size 648x432 with 5 Axes>",
      "image/png": "[encoded data removed]"
     },
     "metadata": {
      "needs_background": "light"
     },
     "output_type": "display_data"
    }
   ],
   "source": [
    "import numpy as np\n",
    "import pandas as pd\n",
    "from sklearn import preprocessing\n",
    "import matplotlib.pyplot as plt\n",
    "from sklearn.datasets import make_moons\n",
    "import matplotlib.pyplot as plt\n",
    "%matplotlib inline\n",
    " \n",
    "# 导入数据\n",
    "data = make_moons(n_samples=200, noise=10)[0]\n",
    " \n",
    "#Z-Score标准化\n",
    "#建立StandardScaler对象\n",
    "zscore = preprocessing.StandardScaler()\n",
    "# 标准化处理\n",
    "data_zs = zscore.fit_transform(data)\n",
    " \n",
    "#Max-Min标准化\n",
    "#建立MinMaxScaler对象\n",
    "minmax = preprocessing.MinMaxScaler()\n",
    "# 标准化处理\n",
    "data_minmax = minmax.fit_transform(data)\n",
    " \n",
    "#MaxAbs标准化\n",
    "#建立MinMaxScaler对象\n",
    "maxabs = preprocessing.MaxAbsScaler()\n",
    "# 标准化处理\n",
    "data_maxabs = maxabs.fit_transform(data)\n",
    " \n",
    "#RobustScaler标准化\n",
    "#建立RobustScaler对象\n",
    "robust = preprocessing.RobustScaler()\n",
    "# 标准化处理\n",
    "data_rob = robust.fit_transform(data)\n",
    " \n",
    "# 可视化数据展示\n",
    "# 建立数据集列表\n",
    "data_list = [data, data_zs, data_minmax, data_maxabs, data_rob]\n",
    "# 创建颜色列表\n",
    "color_list = ['blue', 'red', 'green', 'black', 'pink']\n",
    "# 创建标题样式\n",
    "title_list = ['source data', 'zscore', 'minmax', 'maxabs', 'robust']\n",
    " \n",
    "# 设置画幅\n",
    "plt.figure(figsize=(9, 6))\n",
    "# 循环数据集和索引\n",
    "for i, dt in enumerate(data_list):\n",
    "  # 子网格\n",
    "  plt.subplot(2, 3, i+1)\n",
    "  # 数据画散点图\n",
    "  plt.scatter(dt[:, 0], dt[:, 1], c=color_list[i])\n",
    "  # 设置标题\n",
    "  plt.title(title_list[i])\n",
    "# 图片储存 \n",
    "# plt.savefig('xx.png')\n",
    "# 图片展示\n",
    "plt.show()"
   ],
   "metadata": {
    "collapsed": false,
    "pycharm": {
     "name": "#%%\n",
     "is_executing": false
    }
   }
  },
  {
   "cell_type": "code",
   "execution_count": 11,
   "outputs": [
    {
     "name": "stdout",
     "text": [
      "[0.  0.1 0.5 0.8 1. ]\n",
      "[-1.24101046 -0.98246661  0.05170877  0.8273403   1.34442799]\n"
     ],
     "output_type": "stream"
    }
   ],
   "source": [
    "# numpy 归一化和标准化 代码实现\n",
    "def normalization(data):\n",
    "    _range = np.max(data) - np.min(data)\n",
    "    return (data - np.min(data)) / _range\n",
    "     \n",
    "def standardization(data, axis=0):\n",
    "    mu = np.mean(data, axis=axis)\n",
    "    sigma = np.std(data, axis=axis)\n",
    "    return (data - mu) / sigma\n",
    "\n",
    "import numpy as np\n",
    "arr = np.asarray([0, 10, 50, 80, 100])\n",
    "x=normalization(arr)\n",
    "print(x)\n",
    "\n",
    "y=standardization(arr)\n",
    "print(y) "
   ],
   "metadata": {
    "collapsed": false,
    "pycharm": {
     "name": "#%%\n",
     "is_executing": false
    }
   }
  },
  {
   "cell_type": "code",
   "execution_count": 30,
   "outputs": [
    {
     "name": "stdout",
     "text": [
      "原始数据：\n",
      " [[0.26987061 0.30503689 0.18074829 0.71231921 0.53790694 0.18338524]\n",
      " [0.25143945 0.17322976 0.49344212 0.1935668  0.03157246 0.17521832]\n",
      " [0.17618243 0.11543254 0.48427864 0.32676317 0.38643553 0.18373344]\n",
      " [0.67082374 0.44096358 0.28062657 0.9550944  0.85408094 0.82719201]\n",
      " [0.65557922 0.57815517 0.36675365 0.13614946 0.26117394 0.18131921]\n",
      " [0.72892019 0.84037129 0.17702666 0.55298347 0.06444978 0.16689436]]\n",
      "Zmax, Zmin \n",
      " [0.72892019 0.84037129 0.49344212 0.9550944  0.85408094 0.82719201] \n",
      " [0.17618243 0.11543254 0.17702666 0.13614946 0.03157246 0.16689436]\n",
      "min-max:\n",
      " [[0.16949844 0.26154534 0.01176184 0.70355127 0.61559788 0.02497491]\n",
      " [0.13615321 0.07972705 1.         0.07011135 0.         0.01260637]\n",
      " [0.         0.         0.97103971 0.23275522 0.43144001 0.02550225]\n",
      " [0.89489328 0.44904627 0.32741736 1.         1.         1.        ]\n",
      " [0.86731326 0.63829203 0.59961354 0.         0.27914786 0.02184597]\n",
      " [1.         1.         0.         0.50898906 0.03997201 0.        ]]\n",
      "Zmax, Zmin \n",
      " [0.71231921 0.49344212 0.48427864 0.9550944  0.65557922 0.84037129] \n",
      " [0.18074829 0.03157246 0.11543254 0.28062657 0.13614946 0.06444978]\n",
      "min-max:\n",
      " [[0.16765839 0.23381377 0.         1.         0.67189275 0.00496068]\n",
      " [0.47603686 0.30670406 1.         0.35073605 0.         0.31100951]\n",
      " [0.16470254 0.         1.         0.57295069 0.73473188 0.18517453]\n",
      " [0.57852599 0.23772373 0.         1.         0.85023236 0.81036547]\n",
      " [1.         0.85094413 0.44395645 0.         0.24069565 0.08696025]\n",
      " [0.85636292 1.         0.14508798 0.62961741 0.         0.13202957]]\n"
     ],
     "output_type": "stream"
    }
   ],
   "source": [
    "import numpy as np\n",
    "\n",
    "Z=np.random.random((6,6))\n",
    "print(\"原始数据：\\n\", Z)\n",
    "Zmax,Zmin=Z.max(axis=0),Z.min(axis=0)\n",
    "print(\"Zmax, Zmin\",\"\\n\", Zmax,\"\\n\", Zmin)\n",
    "Z1=(Z-Zmin)/(Zmax-Zmin)\n",
    "print(\"min-max:\\n\", Z1)\n",
    "\n",
    "# numpy 按行归一化\n",
    "# print(\"原始数据：\\n\", Z)\n",
    "Zmax,Zmin=Z.max(axis=1),Z.min(axis=1)\n",
    "print(\"Zmax, Zmin\",\"\\n\", Zmax,\"\\n\", Zmin)\n",
    "Z2=((Z.T-Zmin)/(Zmax-Zmin)).T\n",
    "print(\"min-max:\\n\", Z2)\n"
   ],
   "metadata": {
    "collapsed": false,
    "pycharm": {
     "name": "#%%\n",
     "is_executing": false
    }
   }
  }
 ],
 "metadata": {
  "kernelspec": {
   "name": "pycharm-1de2aa39",
   "language": "python",
   "display_name": "PyCharm (quanttesting)"
  },
  "language_info": {
   "codemirror_mode": {
    "name": "ipython",
    "version": 2
   },
   "file_extension": ".py",
   "mimetype": "text/x-python",
   "name": "python",
   "nbconvert_exporter": "python",
   "pygments_lexer": "ipython2",
   "version": "2.7.6"
  },
  "pycharm": {
   "stem_cell": {
    "cell_type": "raw",
    "source": [],
    "metadata": {
     "collapsed": false
    }
   }
  }
 },
 "nbformat": 4,
 "nbformat_minor": 0
}